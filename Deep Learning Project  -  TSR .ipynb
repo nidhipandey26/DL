{
 "cells": [
  {
   "cell_type": "markdown",
   "id": "c79e6823",
   "metadata": {},
   "source": [
    "# Image Classification\n",
    "* Date: 15/12/2021\n",
    "* Type of Model: TSR (Classification)\n",
    "\n",
    "### Metadata\n",
    "* Dataset: Traffic sign recognization\n",
    "* Size of training set:31367\n",
    "* Size of testing set : 7842\n",
    "* Size of validation set : 12630\n",
    "* Number of class :43 \n",
    "* Original Model: CNN\n",
    "\n",
    "### Outcome\n",
    "* Accuracy of model: 0.95\n"
   ]
  },
  {
   "cell_type": "markdown",
   "id": "dec39726",
   "metadata": {},
   "source": [
    "# 1.0 Prepare Environment"
   ]
  },
  {
   "cell_type": "code",
   "execution_count": 4,
   "id": "f2145e53",
   "metadata": {},
   "outputs": [],
   "source": [
    "\"\"\"Description : import packages\"\"\"\n",
    "import numpy as np\n",
    "import pandas as pd\n",
    "import matplotlib.pyplot as plt\n",
    "import tensorflow as tf\n",
    "from PIL import Image\n",
    "import os\n",
    "from tqdm.notebook import tqdm\n",
    "from sklearn.model_selection import train_test_split\n",
    "from tensorflow.keras.utils import to_categorical\n",
    "from keras.models import Sequential\n",
    "from keras.layers import Conv2D, MaxPool2D, Dense, Flatten, Dropout"
   ]
  },
  {
   "cell_type": "markdown",
   "id": "3eae51c2",
   "metadata": {},
   "source": [
    "# 2.0 Data loading and Preprocessing"
   ]
  },
  {
   "cell_type": "markdown",
   "id": "eb2feb93",
   "metadata": {},
   "source": [
    "###  2.1 Preprocess all training images into a numpy array"
   ]
  },
  {
   "cell_type": "code",
   "execution_count": 5,
   "id": "acd04105",
   "metadata": {},
   "outputs": [
    {
     "data": {
      "application/vnd.jupyter.widget-view+json": {
       "model_id": "7f98a9aa1e1f4c8b84732fe583675f9d",
       "version_major": 2,
       "version_minor": 0
      },
      "text/plain": [
       "  0%|          | 0/43 [00:00<?, ?it/s]"
      ]
     },
     "metadata": {},
     "output_type": "display_data"
    }
   ],
   "source": [
    "data = [] \n",
    "labels = [] \n",
    "classes = 43\n",
    "cur_path = os.getcwd()\n",
    "\n",
    "for i in tqdm(range(classes)):\n",
    "    path = cur_path + '\\\\' + str('Train') + '\\\\' + str(i)+'\\\\'\n",
    "    images = os.listdir(path)\n",
    "    \n",
    "    for a in images:\n",
    "        try:\n",
    "            image = Image.open(path + '\\\\'+ a)\n",
    "            image = image.resize((30,30))\n",
    "            image = np.array(image)\n",
    "            data.append(image)\n",
    "            labels.append(i)\n",
    "        except:\n",
    "            print(\"Error:Image Not Loaded\")"
   ]
  },
  {
   "cell_type": "code",
   "execution_count": null,
   "id": "019b4d29",
   "metadata": {},
   "outputs": [],
   "source": [
    "#Converting lists into numpy arrays\n",
    "data = np.array(data)\n",
    "labels = np.array(labels)\n",
    "print(data.shape, labels.shape)"
   ]
  },
  {
   "cell_type": "markdown",
   "id": "319aa47e",
   "metadata": {},
   "source": [
    "### 2.2 Splitting the training and testing datasets"
   ]
  },
  {
   "cell_type": "code",
   "execution_count": null,
   "id": "cf2558d6",
   "metadata": {},
   "outputs": [],
   "source": [
    "#Splitting training and testing dataset\n",
    "X_train, X_test, y_train, y_test = train_test_split(data, labels, test_size=0.2, random_state=66)\n",
    "print(X_train.shape, X_test.shape, y_train.shape, y_test.shape)"
   ]
  },
  {
   "cell_type": "markdown",
   "id": "1c9e6130",
   "metadata": {},
   "source": [
    "# 3.0 Model Development and Training"
   ]
  },
  {
   "cell_type": "code",
   "execution_count": 11,
   "id": "21b9cfd7",
   "metadata": {},
   "outputs": [],
   "source": [
    "#Building the model\n",
    "model = Sequential()\n",
    "model.add(Conv2D(filters=32, kernel_size=(5,5), activation='relu', input_shape=X_train.shape[1:]))\n",
    "model.add(Conv2D(filters=32, kernel_size=(5,5), activation='relu'))\n",
    "model.add(MaxPool2D(pool_size=(2, 2)))\n",
    "model.add(Dropout(rate=0.25))\n",
    "model.add(Conv2D(filters=64, kernel_size=(3, 3), activation='relu'))\n",
    "model.add(Conv2D(filters=64, kernel_size=(3, 3), activation='relu'))\n",
    "model.add(MaxPool2D(pool_size=(2, 2)))\n",
    "model.add(Dropout(rate=0.25))\n",
    "model.add(Flatten())\n",
    "model.add(Dense(256, activation='relu'))\n",
    "model.add(Dropout(rate=0.5))\n",
    "model.add(Dense(43, activation='softmax'))"
   ]
  },
  {
   "cell_type": "code",
   "execution_count": 12,
   "id": "4148c70a",
   "metadata": {},
   "outputs": [],
   "source": [
    "#Compilation of the model\n",
    "model.compile(loss= 'sparse_categorical_crossentropy', optimizer='adam', metrics=['accuracy'])"
   ]
  },
  {
   "cell_type": "code",
   "execution_count": 14,
   "id": "fcfcc339",
   "metadata": {},
   "outputs": [
    {
     "name": "stdout",
     "output_type": "stream",
     "text": [
      "Epoch 1/15\n",
      "981/981 [==============================] - 151s 154ms/step - loss: 1.1021 - accuracy: 0.6832 - val_loss: 0.3968 - val_accuracy: 0.8988\n",
      "Epoch 2/15\n",
      "981/981 [==============================] - 159s 162ms/step - loss: 0.5239 - accuracy: 0.8433 - val_loss: 0.1512 - val_accuracy: 0.9596\n",
      "Epoch 3/15\n",
      "981/981 [==============================] - 174s 178ms/step - loss: 0.3616 - accuracy: 0.8919 - val_loss: 0.1122 - val_accuracy: 0.9693\n",
      "Epoch 4/15\n",
      "981/981 [==============================] - 159s 162ms/step - loss: 0.3041 - accuracy: 0.9126 - val_loss: 0.1008 - val_accuracy: 0.9714\n",
      "Epoch 5/15\n",
      "981/981 [==============================] - 159s 163ms/step - loss: 0.2594 - accuracy: 0.9254 - val_loss: 0.0770 - val_accuracy: 0.9799\n",
      "Epoch 6/15\n",
      "981/981 [==============================] - 165s 168ms/step - loss: 0.2750 - accuracy: 0.9232 - val_loss: 0.1238 - val_accuracy: 0.9639\n",
      "Epoch 7/15\n",
      "981/981 [==============================] - 157s 160ms/step - loss: 0.2188 - accuracy: 0.9390 - val_loss: 0.0812 - val_accuracy: 0.9764\n",
      "Epoch 8/15\n",
      "981/981 [==============================] - 167s 170ms/step - loss: 0.2473 - accuracy: 0.9353 - val_loss: 0.0887 - val_accuracy: 0.9749\n",
      "Epoch 9/15\n",
      "981/981 [==============================] - 161s 164ms/step - loss: 0.2245 - accuracy: 0.9397 - val_loss: 0.0536 - val_accuracy: 0.9850\n",
      "Epoch 10/15\n",
      "981/981 [==============================] - 158s 161ms/step - loss: 0.2482 - accuracy: 0.9347 - val_loss: 0.0674 - val_accuracy: 0.9807\n",
      "Epoch 11/15\n",
      "981/981 [==============================] - 161s 164ms/step - loss: 0.2349 - accuracy: 0.9385 - val_loss: 0.0839 - val_accuracy: 0.9762\n",
      "Epoch 12/15\n",
      "981/981 [==============================] - 176s 179ms/step - loss: 0.2278 - accuracy: 0.9418 - val_loss: 0.0842 - val_accuracy: 0.9763\n",
      "Epoch 13/15\n",
      "981/981 [==============================] - 242s 247ms/step - loss: 0.2427 - accuracy: 0.9400 - val_loss: 0.0491 - val_accuracy: 0.9866\n",
      "Epoch 14/15\n",
      "981/981 [==============================] - 168s 171ms/step - loss: 0.2458 - accuracy: 0.9386 - val_loss: 0.0642 - val_accuracy: 0.9832\n",
      "Epoch 15/15\n",
      "981/981 [==============================] - 172s 175ms/step - loss: 0.2249 - accuracy: 0.9440 - val_loss: 0.0554 - val_accuracy: 0.9834\n"
     ]
    }
   ],
   "source": [
    "epochs = 15\n",
    "history = model.fit(X_train, y_train, batch_size=32, epochs=epochs, validation_data=(X_test, y_test))\n",
    "model.save(\"my_model.h5\")"
   ]
  },
  {
   "cell_type": "code",
   "execution_count": 15,
   "id": "13667282",
   "metadata": {},
   "outputs": [
    {
     "data": {
      "image/png": "[encoded data removed]",
      "text/plain": [
       "<Figure size 432x288 with 1 Axes>"
      ]
     },
     "metadata": {
      "needs_background": "light"
     },
     "output_type": "display_data"
    }
   ],
   "source": [
    "#plotting graphs for accuracy \n",
    "plt.figure(0)\n",
    "plt.plot(history.history['accuracy'], label='training accuracy')\n",
    "plt.plot(history.history['val_accuracy'], label='val accuracy')\n",
    "plt.title('Accuracy')\n",
    "plt.xlabel('epochs')\n",
    "plt.ylabel('accuracy')\n",
    "plt.legend()\n",
    "plt.show()"
   ]
  },
  {
   "cell_type": "code",
   "execution_count": 11,
   "id": "d4a6a38d",
   "metadata": {},
   "outputs": [
    {
     "data": {
      "image/png": "[encoded data removed]",
      "text/plain": [
       "<Figure size 432x288 with 1 Axes>"
      ]
     },
     "metadata": {
      "needs_background": "light"
     },
     "output_type": "display_data"
    }
   ],
   "source": [
    "plt.figure(1)\n",
    "plt.plot(history.history['loss'], label='training loss')\n",
    "plt.plot(history.history['val_loss'], label='val loss')\n",
    "plt.title('Loss')\n",
    "plt.xlabel('epochs')\n",
    "plt.ylabel('loss')\n",
    "plt.legend()\n",
    "plt.show()"
   ]
  },
  {
   "cell_type": "markdown",
   "id": "517b5dc4",
   "metadata": {},
   "source": [
    "# 4 Validate model accuracy"
   ]
  },
  {
   "cell_type": "code",
   "execution_count": 12,
   "id": "12140ff4",
   "metadata": {},
   "outputs": [
    {
     "name": "stdout",
     "output_type": "stream",
     "text": [
      "(12630,)\n",
      "(12630,)\n",
      "Index(['Width', 'Height', 'Roi.X1', 'Roi.Y1', 'Roi.X2', 'Roi.Y2', 'ClassId',\n",
      "       'Path'],\n",
      "      dtype='object')\n"
     ]
    }
   ],
   "source": [
    "#testing accuracy on test dataset\n",
    "from sklearn.metrics import accuracy_score\n",
    "y_test = pd.read_csv('Test.csv')\n",
    "labels = y_test[\"ClassId\"].values\n",
    "imgs = y_test[\"Path\"].values\n",
    "print(imgs.shape)\n",
    "print(labels.shape)\n",
    "print(y_test.columns)\n",
    " "
   ]
  },
  {
   "cell_type": "code",
   "execution_count": 13,
   "id": "21aa1105",
   "metadata": {},
   "outputs": [
    {
     "data": {
      "text/plain": [
       "Width       int64\n",
       "Height      int64\n",
       "Roi.X1      int64\n",
       "Roi.Y1      int64\n",
       "Roi.X2      int64\n",
       "Roi.Y2      int64\n",
       "ClassId     int64\n",
       "Path       object\n",
       "dtype: object"
      ]
     },
     "execution_count": 13,
     "metadata": {},
     "output_type": "execute_result"
    }
   ],
   "source": [
    "y_test.dtypes"
   ]
  },
  {
   "cell_type": "code",
   "execution_count": 14,
   "id": "9fb77b85",
   "metadata": {},
   "outputs": [
    {
     "data": {
      "text/plain": [
       "array(['Test/00000.png', 'Test/00001.png', 'Test/00002.png', ...,\n",
       "       'Test/12627.png', 'Test/12628.png', 'Test/12629.png'], dtype=object)"
      ]
     },
     "execution_count": 14,
     "metadata": {},
     "output_type": "execute_result"
    }
   ],
   "source": [
    "y_test['Path'].unique()"
   ]
  },
  {
   "cell_type": "code",
   "execution_count": 15,
   "id": "99c87e65",
   "metadata": {},
   "outputs": [],
   "source": [
    "data=[]\n",
    "for img in imgs:\n",
    "    image = Image.open(img)\n",
    "    image = image.resize((30,30))\n",
    "    data.append(np.array(image))\n",
    "X_test=np.array(data)"
   ]
  },
  {
   "cell_type": "code",
   "execution_count": 16,
   "id": "18f23f17",
   "metadata": {},
   "outputs": [
    {
     "name": "stdout",
     "output_type": "stream",
     "text": [
      "\n",
      "Test accuracy: 0.9479809999465942\n"
     ]
    }
   ],
   "source": [
    "test_loss, test_acc = model.evaluate( X_test, labels, verbose=0)\n",
    "print('\\nTest accuracy:', test_acc)"
   ]
  },
  {
   "cell_type": "code",
   "execution_count": null,
   "id": "0ebf5ecb",
   "metadata": {},
   "outputs": [],
   "source": []
  }
 ],
 "metadata": {
  "kernelspec": {
   "display_name": "Python 3",
   "language": "python",
   "name": "python3"
  },
  "language_info": {
   "codemirror_mode": {
    "name": "ipython",
    "version": 3
   },
   "file_extension": ".py",
   "mimetype": "text/x-python",
   "name": "python",
   "nbconvert_exporter": "python",
   "pygments_lexer": "ipython3",
   "version": "3.8.8"
  }
 },
 "nbformat": 4,
 "nbformat_minor": 5
}
